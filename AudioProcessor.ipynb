{
 "cells": [
  {
   "cell_type": "code",
   "execution_count": 1,
   "id": "753ab6b8",
   "metadata": {},
   "outputs": [
    {
     "name": "stderr",
     "output_type": "stream",
     "text": [
      "C:\\Users\\mamir\\AppData\\Local\\Temp\\ipykernel_13044\\1210177437.py:49: MatplotlibDeprecationWarning: The get_cmap function was deprecated in Matplotlib 3.7 and will be removed in 3.11. Use ``matplotlib.colormaps[name]`` or ``matplotlib.colormaps.get_cmap()`` or ``pyplot.get_cmap()`` instead.\n",
      "  colormap = plt.cm.get_cmap(self.colormap_name)\n"
     ]
    },
    {
     "name": "stdout",
     "output_type": "stream",
     "text": [
      "Processed and saved images for ./database\\English\\1.mp3 in ./processed_data\\English\n",
      "Processed and saved images for ./database\\English\\10.mp3 in ./processed_data\\English\n"
     ]
    },
    {
     "name": "stderr",
     "output_type": "stream",
     "text": [
      "C:\\Users\\mamir\\AppData\\Local\\Temp\\ipykernel_13044\\1210177437.py:47: RuntimeWarning: invalid value encountered in divide\n",
      "  normalized_image = (log_mel_spectrogram - log_mel_spectrogram.min()) / (log_mel_spectrogram.max() - log_mel_spectrogram.min())\n"
     ]
    },
    {
     "name": "stdout",
     "output_type": "stream",
     "text": [
      "Processed and saved images for ./database\\English\\11.mp3 in ./processed_data\\English\n",
      "Processed and saved images for ./database\\English\\2.mp3 in ./processed_data\\English\n",
      "Processed and saved images for ./database\\English\\3.mp3 in ./processed_data\\English\n",
      "Processed and saved images for ./database\\English\\4.mp3 in ./processed_data\\English\n",
      "Processed and saved images for ./database\\English\\5.mp3 in ./processed_data\\English\n",
      "Processed and saved images for ./database\\English\\6.mp3 in ./processed_data\\English\n",
      "Processed and saved images for ./database\\English\\7.mp3 in ./processed_data\\English\n",
      "Processed and saved images for ./database\\English\\8.mp3 in ./processed_data\\English\n",
      "Processed and saved images for ./database\\English\\9.mp3 in ./processed_data\\English\n",
      "Processed and saved images for ./database\\Farsi\\1.mp3 in ./processed_data\\Farsi\n",
      "Processed and saved images for ./database\\Farsi\\2.mp3 in ./processed_data\\Farsi\n",
      "Processed and saved images for ./database\\Farsi\\3.mp3 in ./processed_data\\Farsi\n",
      "Processed and saved images for ./database\\German\\1.mp3 in ./processed_data\\German\n",
      "Processed and saved images for ./database\\German\\2.mp3 in ./processed_data\\German\n",
      "Processed and saved images for ./database\\German\\3.mp3 in ./processed_data\\German\n",
      "Processed and saved images for ./database\\German\\4.mp3 in ./processed_data\\German\n",
      "Processed and saved images for ./database\\German\\5.mp3 in ./processed_data\\German\n",
      "Fourier transform images with color saved in ./processed_data\n"
     ]
    }
   ],
   "source": [
    "import os\n",
    "import numpy as np\n",
    "import matplotlib.pyplot as plt\n",
    "import librosa\n",
    "import librosa.display\n",
    "from PIL import Image\n",
    "import random\n",
    "\n",
    "class AudioProcessor:\n",
    "    def __init__(self, input_dir, output_dir, colormap_name='jet', image_size=(224, 224)):\n",
    "        self.input_dir = input_dir\n",
    "        self.output_dir = output_dir\n",
    "        self.colormap_name = colormap_name\n",
    "        self.image_size = image_size\n",
    "\n",
    "    def ensure_output_path_exists(self, path):\n",
    "        if not os.path.exists(path):\n",
    "            os.makedirs(path)\n",
    "\n",
    "    def process_audio_files(self):\n",
    "        for root, dirs, files in os.walk(self.input_dir):\n",
    "            for dir_name in dirs:\n",
    "                subdir_path = os.path.join(root, dir_name)\n",
    "                output_subdir_path = os.path.join(self.output_dir, dir_name)\n",
    "                self.ensure_output_path_exists(output_subdir_path)\n",
    "\n",
    "                for file_name in os.listdir(subdir_path):\n",
    "                    if file_name.endswith('.mp3'):\n",
    "                        file_path = os.path.join(subdir_path, file_name)\n",
    "                        self.process_single_file(file_path, output_subdir_path)\n",
    "\n",
    "    def process_single_file(self, file_path, output_subdir_path):\n",
    "        audio, sampling_rate = librosa.load(file_path, sr=None)\n",
    "        duration = len(audio) / sampling_rate\n",
    "\n",
    "        num_segments = int(np.floor(duration))\n",
    "\n",
    "        for segment_idx in range(num_segments):\n",
    "            start_idx = segment_idx * sampling_rate\n",
    "            end_idx = (segment_idx + 1) * sampling_rate\n",
    "            segment_audio = audio[start_idx:end_idx]\n",
    "\n",
    "            mel_spectrogram = librosa.feature.melspectrogram(y=segment_audio, sr=sampling_rate, n_mels=224, fmax=8000)\n",
    "            log_mel_spectrogram = librosa.power_to_db(mel_spectrogram, ref=np.max)\n",
    "\n",
    "            # Normalize\n",
    "            normalized_image = (log_mel_spectrogram - log_mel_spectrogram.min()) / (log_mel_spectrogram.max() - log_mel_spectrogram.min())\n",
    "\n",
    "            colormap = plt.cm.get_cmap(self.colormap_name)\n",
    "            colormap_image = colormap(normalized_image)[:, :, :3]\n",
    "\n",
    "            colormap_image = (colormap_image * 255).astype(np.uint8)\n",
    "\n",
    "            img = Image.fromarray(colormap_image)\n",
    "            img = img.resize(self.image_size)\n",
    "            img.save(os.path.join(output_subdir_path, f'spectrum_color_2_{segment_idx + 1}.png'))\n",
    "\n",
    "        print(f'Processed and saved images for {file_path} in {output_subdir_path}')\n",
    "\n",
    "# Usage\n",
    "if __name__ == \"__main__\":\n",
    "    input_dir = \"./database\"\n",
    "    output_dir = \"./processed_data\"\n",
    "    processor = AudioProcessor(input_dir, output_dir)\n",
    "    processor.process_audio_files()\n",
    "\n",
    "    print(f'Fourier transform images with color saved in {output_dir}')\n"
   ]
  },
  {
   "cell_type": "code",
   "execution_count": null,
   "id": "8da8e5b3",
   "metadata": {},
   "outputs": [],
   "source": []
  },
  {
   "cell_type": "code",
   "execution_count": null,
   "id": "c91fc394",
   "metadata": {},
   "outputs": [],
   "source": []
  }
 ],
 "metadata": {
  "kernelspec": {
   "display_name": "Python 3 (ipykernel)",
   "language": "python",
   "name": "python3"
  },
  "language_info": {
   "codemirror_mode": {
    "name": "ipython",
    "version": 3
   },
   "file_extension": ".py",
   "mimetype": "text/x-python",
   "name": "python",
   "nbconvert_exporter": "python",
   "pygments_lexer": "ipython3",
   "version": "3.12.3"
  }
 },
 "nbformat": 4,
 "nbformat_minor": 5
}
