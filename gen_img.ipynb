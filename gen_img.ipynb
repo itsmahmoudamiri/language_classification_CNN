{
 "cells": [
  {
   "cell_type": "code",
   "execution_count": 1,
   "id": "fe95b902",
   "metadata": {},
   "outputs": [],
   "source": [
    "import os\n",
    "import numpy as np\n",
    "import matplotlib.pyplot as plt\n",
    "import librosa\n",
    "from scipy.fftpack import fft\n",
    "import matplotlib  \n",
    "from PIL import Image  # Import PIL for image processing"
   ]
  },
  {
   "cell_type": "code",
   "execution_count": 2,
   "id": "cbdb955e",
   "metadata": {},
   "outputs": [],
   "source": [
    "# Load an audio file\n",
    "path = r\"..\\database1\\arabic\\audio_programs_Nesfsaah_20161002-nesfsaah.mp3\"\n",
    "output_path = r\"..\\database1\\output_arabic\""
   ]
  },
  {
   "cell_type": "code",
   "execution_count": 3,
   "id": "c8c25dcf",
   "metadata": {},
   "outputs": [
    {
     "name": "stderr",
     "output_type": "stream",
     "text": [
      "C:\\Users\\mamir\\AppData\\Local\\Temp\\ipykernel_11376\\4162877192.py:47: MatplotlibDeprecationWarning: The get_cmap function was deprecated in Matplotlib 3.7 and will be removed two minor releases later. Use ``matplotlib.colormaps[name]`` or ``matplotlib.colormaps.get_cmap(obj)`` instead.\n",
      "  colormap = plt.cm.get_cmap(colormap_name)\n"
     ]
    },
    {
     "name": "stdout",
     "output_type": "stream",
     "text": [
      "Fourier transform images with color saved in ..\\database1\\output_arabic\n"
     ]
    }
   ],
   "source": [
    "# Apply a different colormap\n",
    "colormap_name = 'jet'  # Replace 'inferno' with the desired colormap name\n",
    "\n",
    "\n",
    "image_size = (224, 224)\n",
    "# Read the audio file\n",
    "audio, sampling_rate = librosa.load(path, sr=None)\n",
    "duration = len(audio) / sampling_rate\n",
    "\n",
    "# Calculate the number of 1-second segments\n",
    "num_segments = int(np.floor(duration))\n",
    "\n",
    "# Ensure output path exists\n",
    "if not os.path.exists(output_path):\n",
    "    os.makedirs(output_path)\n",
    "\n",
    "# Process each 1-second segment\n",
    "for segment_idx in range(num_segments):\n",
    "    start_idx = segment_idx * sampling_rate\n",
    "    end_idx = (segment_idx + 1) * sampling_rate\n",
    "    segment_audio = audio[start_idx:end_idx]\n",
    "\n",
    "    # Initialize an image\n",
    "    image = np.zeros(image_size)\n",
    "\n",
    "    # Split the segment into 224 parts and perform FFT on each\n",
    "    samples_per_part = len(segment_audio) // 224\n",
    "    for part_idx in range(224):\n",
    "        part_start = part_idx * samples_per_part\n",
    "        part_end = part_start + samples_per_part\n",
    "        part_audio = segment_audio[part_start:part_end]\n",
    "\n",
    "        # 224-point FFT\n",
    "        fft_result = fft(part_audio, n=224)\n",
    "        magnitude_spectrum = np.abs(fft_result)[:112]  # Take half of the FFT result\n",
    "        image[part_idx, :112] = magnitude_spectrum\n",
    "        image[part_idx, 112:] = magnitude_spectrum[::-1]  # Mirror the spectrum\n",
    "\n",
    "    # Normalize the image\n",
    "    min_val, max_val = image.min(), image.max()\n",
    "    normalized_image = (image - min_val) / (max_val - min_val)\n",
    "\n",
    "    \n",
    "\n",
    "     \n",
    "    # Apply colormap\n",
    "    colormap = plt.cm.get_cmap(colormap_name)\n",
    "    colormap_image = colormap(normalized_image)[:, :, :3]  # Extract RGB channels\n",
    "\n",
    "   \n",
    "    # Convert the colormap_image to 8-bit unsigned integer format\n",
    "    colormap_image = (colormap_image * 255).astype(np.uint8)\n",
    "\n",
    "    # Save the image\n",
    "    img = Image.fromarray(colormap_image)\n",
    "    img.save(os.path.join(output_path, f'spectrum_color_2_{segment_idx + 1}.png'))\n",
    "\n",
    "print(f'Fourier transform images with color saved in {output_path}')\n"
   ]
  },
  {
   "cell_type": "code",
   "execution_count": null,
   "id": "8da8e5b3",
   "metadata": {},
   "outputs": [],
   "source": []
  },
  {
   "cell_type": "code",
   "execution_count": null,
   "id": "c91fc394",
   "metadata": {},
   "outputs": [],
   "source": []
  }
 ],
 "metadata": {
  "kernelspec": {
   "display_name": "Python 3 (ipykernel)",
   "language": "python",
   "name": "python3"
  },
  "language_info": {
   "codemirror_mode": {
    "name": "ipython",
    "version": 3
   },
   "file_extension": ".py",
   "mimetype": "text/x-python",
   "name": "python",
   "nbconvert_exporter": "python",
   "pygments_lexer": "ipython3",
   "version": "3.11.5"
  }
 },
 "nbformat": 4,
 "nbformat_minor": 5
}
