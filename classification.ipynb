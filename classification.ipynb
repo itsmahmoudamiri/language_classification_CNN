{
 "cells": [
  {
   "cell_type": "code",
   "execution_count": 10,
   "id": "87842355",
   "metadata": {},
   "outputs": [],
   "source": [
    "import os\n",
    "import numpy as np\n",
    "from PIL import Image\n",
    "from tensorflow.keras.applications.vgg16 import VGG16, preprocess_input, decode_predictions\n",
    "from tensorflow.keras.preprocessing.image import img_to_array\n",
    "import tensorflow as tf\n",
    "from sklearn.metrics import accuracy_score, confusion_matrix\n",
    "from tensorflow.keras.applications.vgg16 import VGG16\n",
    "from tensorflow.keras.layers import Flatten, Dense, Dropout\n",
    "from tensorflow.keras.models import Model\n",
    "from tensorflow.keras.utils import to_categorical\n",
    "from sklearn.metrics import accuracy_score, confusion_matrix\n",
    "from sklearn.preprocessing import LabelEncoder\n",
    "from sklearn.model_selection import train_test_split\n",
    "import seaborn as sns\n",
    "import matplotlib.pyplot as plt\n"
   ]
  },
  {
   "cell_type": "code",
   "execution_count": 2,
   "id": "66a8cdca",
   "metadata": {},
   "outputs": [],
   "source": [
    "# Function to load and preprocess images from a folder\n",
    "def load_and_preprocess_images(folder_name, label, max_images=700, images=[], labels=[]):\n",
    "    folder_path = os.path.join(os.getcwd(), folder_name)\n",
    "\n",
    "    for i, file in enumerate(os.listdir(folder_path)):\n",
    "        if i >= max_images:\n",
    "            break\n",
    "        if file.lower().endswith(('.png', '.jpg', '.jpeg')):\n",
    "            # Load image\n",
    "            image_path = os.path.join(folder_path, file)\n",
    "            image = Image.open(image_path)\n",
    "            image_array = img_to_array(image)\n",
    "            image_array = np.expand_dims(image_array, axis=0)\n",
    "            image_array = preprocess_input(image_array)  # Preprocess the image\n",
    "            \n",
    "            images.append(image_array)\n",
    "            labels.append(label)\n",
    "    \n",
    "    return labels, images\n"
   ]
  },
  {
   "cell_type": "code",
   "execution_count": null,
   "id": "f95354ed",
   "metadata": {},
   "outputs": [],
   "source": []
  },
  {
   "cell_type": "code",
   "execution_count": 3,
   "id": "9fcb97e9",
   "metadata": {},
   "outputs": [],
   "source": [
    "# Load and preprocess images from each folder\n",
    "path = r\"../database1/\"\n",
    "images=[]\n",
    "labels=[]\n",
    "labels, images = load_and_preprocess_images(path + 'output_farsi', 'farsi')\n",
    "labels, images = load_and_preprocess_images(path + 'output_english', 'english', 700, images, labels)\n",
    "labels, images = load_and_preprocess_images(path + 'output_arabic', 'arabic', 700, images, labels)\n",
    "images = np.array(images).reshape(2100, 224, 224, 3)"
   ]
  },
  {
   "cell_type": "code",
   "execution_count": 9,
   "id": "e59c9453",
   "metadata": {},
   "outputs": [
    {
     "name": "stdout",
     "output_type": "stream",
     "text": [
      "Epoch 1/10\n",
      "WARNING:tensorflow:From C:\\Users\\mamir\\anaconda3\\Lib\\site-packages\\keras\\src\\utils\\tf_utils.py:492: The name tf.ragged.RaggedTensorValue is deprecated. Please use tf.compat.v1.ragged.RaggedTensorValue instead.\n",
      "\n",
      "WARNING:tensorflow:From C:\\Users\\mamir\\anaconda3\\Lib\\site-packages\\keras\\src\\engine\\base_layer_utils.py:384: The name tf.executing_eagerly_outside_functions is deprecated. Please use tf.compat.v1.executing_eagerly_outside_functions instead.\n",
      "\n",
      "46/46 [==============================] - 113s 2s/step - loss: 3.8080 - accuracy: 0.6558 - val_loss: 0.4707 - val_accuracy: 0.8032\n",
      "Epoch 2/10\n",
      "46/46 [==============================] - 118s 3s/step - loss: 0.5578 - accuracy: 0.7367 - val_loss: 0.2873 - val_accuracy: 0.8381\n",
      "Epoch 3/10\n",
      "46/46 [==============================] - 120s 3s/step - loss: 0.4850 - accuracy: 0.8000 - val_loss: 0.3630 - val_accuracy: 0.8698\n",
      "Epoch 4/10\n",
      "46/46 [==============================] - 117s 3s/step - loss: 0.4702 - accuracy: 0.7884 - val_loss: 0.3158 - val_accuracy: 0.8698\n",
      "Epoch 5/10\n",
      "46/46 [==============================] - 118s 3s/step - loss: 0.4293 - accuracy: 0.8231 - val_loss: 0.3132 - val_accuracy: 0.8952\n",
      "Epoch 6/10\n",
      "46/46 [==============================] - 117s 3s/step - loss: 0.3926 - accuracy: 0.8333 - val_loss: 0.3191 - val_accuracy: 0.8952\n",
      "Epoch 7/10\n",
      "46/46 [==============================] - 117s 3s/step - loss: 0.3860 - accuracy: 0.8259 - val_loss: 0.2288 - val_accuracy: 0.9238\n",
      "Epoch 8/10\n",
      "46/46 [==============================] - 117s 3s/step - loss: 0.3306 - accuracy: 0.8422 - val_loss: 0.2172 - val_accuracy: 0.8921\n",
      "Epoch 9/10\n",
      "46/46 [==============================] - 118s 3s/step - loss: 0.3736 - accuracy: 0.8367 - val_loss: 0.3063 - val_accuracy: 0.9143\n",
      "Epoch 10/10\n",
      "46/46 [==============================] - 117s 3s/step - loss: 0.3128 - accuracy: 0.8667 - val_loss: 0.2506 - val_accuracy: 0.8921\n",
      "10/10 [==============================] - 20s 2s/step - loss: 0.4415 - accuracy: 0.8889\n",
      "Test accuracy: 0.89\n",
      "10/10 [==============================] - 21s 2s/step\n",
      "Confusion Matrix:\n",
      "[[ 88   4   2]\n",
      " [ 26  73   3]\n",
      " [  0   0 119]]\n"
     ]
    }
   ],
   "source": [
    "# Load the pre-trained VGG16 model without the top layer\n",
    "base_model = VGG16(weights='imagenet', include_top=False, input_shape=(224, 224, 3))\n",
    "\n",
    "# Freeze the layers of the base model\n",
    "for layer in base_model.layers:\n",
    "    layer.trainable = False\n",
    "\n",
    "# Add new layers for your simple neural network\n",
    "x = base_model.output\n",
    "x = Flatten()(x)\n",
    "x = Dense(64, activation='relu')(x)\n",
    "x = Dropout(0.5)(x)  # Dropout layer to reduce overfitting\n",
    "predictions = Dense(3, activation='softmax')(x)  # 3 classes\n",
    "\n",
    "# This is the model we will train\n",
    "model = Model(inputs=base_model.input, outputs=predictions)\n",
    "\n",
    "# Compile the model\n",
    "model.compile(optimizer='adam', loss='categorical_crossentropy', metrics=['accuracy'])\n",
    "\n",
    "# Assuming 'images' is your array of images and 'labels' is your array of labels\n",
    "\n",
    "# Convert string labels to integers\n",
    "label_encoder = LabelEncoder()\n",
    "integer_encoded_labels = label_encoder.fit_transform(labels)\n",
    "\n",
    "# Convert integer labels to one-hot encoding\n",
    "labels_categorical = to_categorical(integer_encoded_labels, num_classes=3)\n",
    "\n",
    "# Split the data into training, validation, and test sets\n",
    "X_train, X_temp, y_train, y_temp = train_test_split(images, labels_categorical, test_size=0.3, random_state=42)\n",
    "X_val, X_test, y_val, y_test = train_test_split(X_temp, y_temp, test_size=0.5, random_state=42)\n",
    "\n",
    "# Train the model\n",
    "model.fit(X_train, y_train, epochs=10, batch_size=32 ,validation_data=(X_val, y_val)) \n",
    "\n",
    "# Evaluate the model on the test set\n",
    "test_loss, test_accuracy = model.evaluate(X_test, y_test)\n",
    "print(f\"Test accuracy: {test_accuracy:.2f}\")\n",
    "\n",
    "# Predictions and confusion matrix\n",
    "predictions = model.predict(X_test)\n",
    "predicted_classes = np.argmax(predictions, axis=1)\n",
    "true_classes = np.argmax(y_test, axis=1)\n",
    "\n",
    "conf_matrix = confusion_matrix(true_classes, predicted_classes)\n",
    "print(\"Confusion Matrix:\")\n",
    "print(conf_matrix)"
   ]
  },
  {
   "cell_type": "code",
   "execution_count": 13,
   "id": "e127722a",
   "metadata": {},
   "outputs": [
    {
     "data": {
      "image/png": "[encoded data removed]",
      "text/plain": [
       "<Figure size 1000x700 with 2 Axes>"
      ]
     },
     "metadata": {},
     "output_type": "display_data"
    }
   ],
   "source": [
    "# Compute the confusion matrix\n",
    "conf_matrix = confusion_matrix(true_classes, predicted_classes)\n",
    "\n",
    "# Define class names\n",
    "class_names = ['Farsi', 'Arabic', 'English']\n",
    "\n",
    "# Plotting the confusion matrix with a colorbar\n",
    "plt.figure(figsize=(10, 7))\n",
    "sns.heatmap(conf_matrix, annot=True, fmt='g', cmap='jet', cbar=True,\n",
    "            xticklabels=class_names, yticklabels=class_names)\n",
    "plt.xlabel('Predicted Labels')\n",
    "plt.ylabel('True Labels')\n",
    "plt.title('Confusion Matrix')\n",
    "plt.show()\n"
   ]
  },
  {
   "cell_type": "code",
   "execution_count": null,
   "id": "f6ab1cb5",
   "metadata": {},
   "outputs": [],
   "source": []
  }
 ],
 "metadata": {
  "kernelspec": {
   "display_name": "Python 3 (ipykernel)",
   "language": "python",
   "name": "python3"
  },
  "language_info": {
   "codemirror_mode": {
    "name": "ipython",
    "version": 3
   },
   "file_extension": ".py",
   "mimetype": "text/x-python",
   "name": "python",
   "nbconvert_exporter": "python",
   "pygments_lexer": "ipython3",
   "version": "3.11.5"
  }
 },
 "nbformat": 4,
 "nbformat_minor": 5
}
